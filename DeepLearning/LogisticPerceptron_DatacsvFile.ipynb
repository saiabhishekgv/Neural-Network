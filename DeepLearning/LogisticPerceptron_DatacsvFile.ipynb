{
 "cells": [
  {
   "cell_type": "markdown",
   "metadata": {},
   "source": [
    "# Coding the Logistic Perceptron Algorithm\n",
    "\n",
    "Time to code! I have implemented the logistic perceptron algorithm to separate the following data (given in the file data.csv).\n",
    "\n",
    "Recall that the perceptron step works as follows. For a point with coordinates (p,q) , label y, and prediction given by the equation y = step(w1*x1 + w2*x2 + b). Then find cross-entropy and error function as follows:\n",
    "\n",
    "- If the point is correctly classified, do nothing.\n",
    "- If the point is classified negative, but it has a positive label, add αp,αq, and α to w1, w2 and b respectively.\n"
   ]
  },
  {
   "cell_type": "code",
   "execution_count": 1,
   "metadata": {
    "collapsed": true
   },
   "outputs": [],
   "source": [
    "import numpy as np"
   ]
  },
  {
   "cell_type": "code",
   "execution_count": 2,
   "metadata": {
    "collapsed": true
   },
   "outputs": [],
   "source": [
    "# SIGMOID FUNCTION :\n",
    "# The function should receive as input x,\n",
    "# and return 1/1+e^(-x) .\n",
    "\n",
    "def sigmoid(x):\n",
    "    return 1/(1+np.exp(-x))"
   ]
  },
  {
   "attachments": {
    "image.png": {
     "image/png": "[encoded data removed]"
    }
   },
   "cell_type": "markdown",
   "metadata": {},
   "source": [
    "# Sigmoid Prime Function \n",
    "\n",
    "![image.png](attachment:image.png)"
   ]
  },
  {
   "cell_type": "code",
   "execution_count": 3,
   "metadata": {
    "collapsed": true
   },
   "outputs": [],
   "source": [
    "# SIGMOID PRIME FUNCTION :\n",
    "# The function should receive as input t,\n",
    "# and return sigmoid(t)*(1-sigmoid(t))\n",
    "def sigmoid_prime(x):\n",
    "    return sigmoid(x)*(1-sigmoid(x))"
   ]
  },
  {
   "cell_type": "code",
   "execution_count": 4,
   "metadata": {
    "collapsed": true
   },
   "outputs": [],
   "source": [
    "# Prediction FUNCTION :\n",
    "# The function should receive as input Data X, weights W, and bias b\n",
    "# and return sigmoid(W*X+b)\n",
    "def prediction(X, W, b):\n",
    "    return sigmoid(np.matmul(X,W)+b)"
   ]
  },
  {
   "cell_type": "code",
   "execution_count": 5,
   "metadata": {
    "collapsed": true
   },
   "outputs": [],
   "source": [
    "# Cross function that takes as input two lists Y, P,\n",
    "# and returns the list of errors.\n",
    "def cross_entropy(Y, yHat):\n",
    "    return [-y[i]*np.log(y_hat[i]) - (1-y[i])*np.log(1-y_hat[i]) for i in range(len(y))]"
   ]
  },
  {
   "cell_type": "code",
   "execution_count": 7,
   "metadata": {
    "collapsed": true
   },
   "outputs": [],
   "source": [
    "#Error function:\n",
    "# cross entropy divided by number of errors.\n",
    "def errorFunction(Y,yHat):\n",
    "    ev = cross_entropy(Y,yHat)\n",
    "    return sum(ev)/len(ev)"
   ]
  },
  {
   "cell_type": "code",
   "execution_count": 8,
   "metadata": {
    "collapsed": true
   },
   "outputs": [],
   "source": [
    "# Derivative of errors:\n",
    "# The result should be a list of three lists:\n",
    "# The first list should contain the gradient (partial derivatives) with respect to w1\n",
    "# The second list should contain the gradient (partial derivatives) with respect to w2\n",
    "# The third list should contain the gradient (partial derivatives) with respect to b\n",
    "def dErrors(X, y, y_hat):\n",
    "    DErrorsDx1 = [X[i][0]*(y[i]-y_hat[i]) for i in range(len(y))]\n",
    "    DErrorsDx2 = [X[i][1]*(y[i]-y_hat[i]) for i in range(len(y))]\n",
    "    DErrorsDb = [y[i]-y_hat[i] for i in range(len(y))]\n",
    "    return DErrorsDx1, DErrorsDx2, DErrorsDb"
   ]
  },
  {
   "cell_type": "code",
   "execution_count": 9,
   "metadata": {},
   "outputs": [],
   "source": [
    "# The function should receive as inputs the data X, the labels y,\n",
    "# the weights W (as an array), and the bias b.\n",
    "# It should calculate the prediction, the gradients, and use them to\n",
    "# update the weights and bias W, b. Then return W and b.\n",
    "# The error e will be calculated and returned for you, for plotting purposes.\n",
    "def gradientDescentStep(X, y, W, b, learn_rate = 0.01):\n",
    "    yHat = prediction(X,W,b)\n",
    "    errors = cross_entropy(y, yHat)\n",
    "    derivErrors = dErrors(X, y, yHat)\n",
    "    W[0] += sum(derivErrors[0])*learn_rate\n",
    "    W[1] += sum(derivErrors[1])*learn_rate\n",
    "    b += sum(derivErrors[2])*learn_rate\n",
    "    return W, b, sum(errors) "
   ]
  },
  {
   "cell_type": "code",
   "execution_count": 15,
   "metadata": {
    "collapsed": true
   },
   "outputs": [],
   "source": [
    "# This function runs the perceptron algorithm repeatedly on the dataset,\n",
    "# and returns a few of the boundary lines obtained in the iterations,\n",
    "# for plotting purposes.\n",
    "# Feel free to play with the learning rate and the num_epochs,\n",
    "# and see your results plotted below.\n",
    "def trainLR(X, y, learn_rate = 0.01, num_epochs = 100):\n",
    "    x_min, x_max = min(X.T[0]), max(X.T[0])\n",
    "    y_min, y_max = min(X.T[1]), max(X.T[1])\n",
    "    # Initialize the weights randomly\n",
    "    W = np.array(np.random.rand(2,1))*2 -1\n",
    "    b = np.random.rand(1)[0]*2 - 1\n",
    "    # These are the solution lines that get plotted below.\n",
    "    boundary_lines = []\n",
    "    errors = []\n",
    "    for i in range(num_epochs):\n",
    "        # In each epoch, we apply the gradient descent step.\n",
    "        W, b, error = gradientDescentStep(X, y, W, b, learn_rate)\n",
    "        errors.append(error)\n",
    "    boundary_lines.append((-W[0]/W[1], -b/W[1]))\n",
    "    return boundary_lines, errors\n"
   ]
  },
  {
   "cell_type": "code",
   "execution_count": null,
   "metadata": {
    "collapsed": true
   },
   "outputs": [],
   "source": []
  }
 ],
 "metadata": {
  "anaconda-cloud": {},
  "kernelspec": {
   "display_name": "Python [default]",
   "language": "python",
   "name": "python2"
  },
  "language_info": {
   "codemirror_mode": {
    "name": "ipython",
    "version": 2
   },
   "file_extension": ".py",
   "mimetype": "text/x-python",
   "name": "python",
   "nbconvert_exporter": "python",
   "pygments_lexer": "ipython2",
   "version": "2.7.12"
  }
 },
 "nbformat": 4,
 "nbformat_minor": 2
}
